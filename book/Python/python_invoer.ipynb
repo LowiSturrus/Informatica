{
 "cells": [
  {
   "cell_type": "markdown",
   "metadata": {},
   "source": [
    "# Python: Invoeren (meet)waarden)\n",
    "Welkom bij de Python cursus. Vandaag gaan we aan de slag met programmeren in de browser. Als het goed is weet je hoe dat moet... (bekijk anders even de [introductie](./Python_intro.ipynb)) \n",
    "\n",
    "## Leerdoelen\n",
    "- Werken met variabelen en types\n",
    "- Wiskundige bewerkingen\n",
    "- Libraries inladen en gebruiken\n",
    "- Numpy functies\n",
    "- Plotten\n",
    "\n",
    "```{exercise}\n",
    "Run de cell hieronder.\n",
    "```"
   ]
  },
  {
   "cell_type": "code",
   "execution_count": null,
   "metadata": {},
   "outputs": [],
   "source": [
    "import numpy as np\n",
    "import pandas as pd\n",
    "import matplotlib.pyplot as plt\n",
    "\n",
    "def get_measurements():\n",
    "  measurements[]"\n",
    "  print("Voer de metingen in voor 10 tijdstippen (om de 10 seconden):")\n",
    "  return measurements\n",
    "plt.figure()\n",
    "plt.xlabel('$x$')\n",
    "plt.ylabel('$f(x)$') \n",
    "\n",
    "plt.plot(x,f, 'k.',label=f'f(x)=%.1f*x^2' %a)\n",
    "   \n",
    "plt.grid()\n",
    "plt.legend()\n",
    "plt.xlim(0,15)\n",
    "plt.ylim(0,max(f)+1)\n",
    "plt.show()"
   ]
  },
  {
   "cell_type": "markdown",
   "metadata": {},
   "source": [
    "```{exercise}\n",
    "Bekijk de code hierboven en leg uit wat elke coderegel doet. Verbeter de grafiek (layout).\n",
    "```"
   ]
  },
  {
   "cell_type": "markdown",
   "metadata": {},
   "source": [
    "```{exercise}\n",
    "Plot de functie $f(x)=2 \\cdot sin(4x)$ op het domein $[0,2\\pi]$.\n",
    "```"
   ]
  },
  {
   "cell_type": "code",
   "execution_count": null,
   "metadata": {},
   "outputs": [],
   "source": [
    "# Jouw code"
   ]
  },
  {
   "cell_type": "markdown",
   "metadata": {},
   "source": [
    "## Goede gewoonten\n",
    "\n",
    "Tot nu toe zijn we bezig geweest zonder ons druk te maken over de naamgeving van onze variabelen of onze code te voorzien van uitleg, zogenaamde meta-data. Het is een goede gewoonte om daar wel zorg aan te besteden, het de lezer - maar ook jezelf - makkelijk te maken door functies en variabelen zo te noemen dat ze makkelijk leesbaar zijn. Stukke code die lastiger te begrijpen zijn kun je voorzien van commentaar. Een \\# kun je gebruiken om commentaar toe te voegen.\n",
    "\n",
    "```{exercise}\n",
    "Lees de code in beide cellen. Welke code is makkelijker te volgen?\n",
    "```"
   ]
  },
  {
   "cell_type": "code",
   "execution_count": 3,
   "metadata": {},
   "outputs": [
    {
     "name": "stdout",
     "output_type": "stream",
     "text": [
      "8\n"
     ]
    }
   ],
   "source": [
    "a = 5\n",
    "b = 3\n",
    "\n",
    "def s(a,b):\n",
    "    s = a+b\n",
    "    return print(s)\n",
    "\n",
    "s(a,b)"
   ]
  },
  {
   "cell_type": "code",
   "execution_count": 2,
   "metadata": {},
   "outputs": [
    {
     "name": "stdout",
     "output_type": "stream",
     "text": [
      "8\n"
     ]
    }
   ],
   "source": [
    "# code om de som van twee getallen te berekenen\n",
    "getal_1 = 5\n",
    "getal_2 = 3\n",
    "\n",
    "# functie om de som van twee getallen te berekenen\n",
    "def som(getal1,getal2):\n",
    "    return getal1 + getal2\n",
    "\n",
    "print(som(getal_1,getal_2))"
   ]
  },
  {
   "cell_type": "code",
   "execution_count": null,
   "metadata": {},
   "outputs": [],
   "source": []
  }
 ],
 "metadata": {
  "kernelspec": {
   "display_name": "base",
   "language": "python",
   "name": "python3"
  },
  "language_info": {
   "codemirror_mode": {
    "name": "ipython",
    "version": 3
   },
   "file_extension": ".py",
   "mimetype": "text/x-python",
   "name": "python",
   "nbconvert_exporter": "python",
   "pygments_lexer": "ipython3",
   "version": "3.10.14"
  }
 },
 "nbformat": 4,
 "nbformat_minor": 2
}

