{
 "cells": [
  {
   "cell_type": "markdown",
   "metadata": {},
   "source": [
    "# Python: Invoeren (meet)waarden)\n",
    "Tijdens het uitvoeren van metingen zul je de meetwaarden opslaan. Door deze waarden in te voeren in een python-programma kunnen r disgrammen mee worden gemaakt. Die geven een beter overzicht van de resulaten.  \n",
    "\n",
    "## Leerdoelen\n",
    "- Invoeren van gegevens\n",
    "- Maken van diagrammen\n",
    "- Pandas functies\n",
    "- Plotten\n",
    "\n",
    "```{exercise}\n",
    "Run de cell hieronder.\n",
    "```"
   ]
  },
  {
   "cell_type": "code",
   "execution_count": 2,
   "metadata": {},
   "outputs": [
    {
     "data": {
      "image/png": "[encoded data removed]",
      "text/plain": [
       "<Figure size 432x288 with 1 Axes>"
      ]
     },
     "metadata": {
      "needs_background": "light"
     },
     "output_type": "display_data"
    }
   ],
   "source": [
    "import numpy as np\n",
    "import pandas as pd\n",
    "import matplotlib.pyplot as plt\n",
    "\n",
    "def U_LDR(U_b, R, R_LDR):\n",
    "    return R_LDR/(R+R_LDR)*U_b\n",
    "\n",
    "R_LDR = np.linspace(0,int(1e4),1000)\n",
    "\n",
    "plt.figure()\n",
    "plt.plot(R_LDR,U_LDR(5,100,R_LDR),label=\"$R=100\\Omega$\")\n",
    "plt.plot(R_LDR,U_LDR(5,1000,R_LDR),label=\"$R=1000\\Omega$\")\n",
    "plt.plot(R_LDR,U_LDR(5,10000,R_LDR),label=\"$R=10000\\Omega$\")\n",
    "plt.xlabel('$R_{LDR} (\\Omega)$')\n",
    "plt.ylabel('$U_{LDR}$ (V)')\n",
    "\n",
    "plt.legend()\n",
    "plt.show()"
   ]
  },
  {
   "cell_type": "markdown",
   "metadata": {},
   "source": [
    "```{exercise}\n",
    "Bekijk de code hierboven en leg uit wat elke coderegel doet. Verbeter de grafiek (layout).\n",
    "```"
   ]
  },
  {
   "cell_type": "markdown",
   "metadata": {},
   "source": [
    "## Goede gewoonten\n",
    "\n",
    "Tot nu toe zijn we bezig geweest zonder ons druk te maken over de naamgeving van onze variabelen of onze code te voorzien van uitleg, zogenaamde meta-data. Het is een goede gewoonte om daar wel zorg aan te besteden, het de lezer - maar ook jezelf - makkelijk te maken door functies en variabelen zo te noemen dat ze makkelijk leesbaar zijn. Stukken code die lastiger te begrijpen zijn kun je voorzien van commentaar. Een \\# kun je gebruiken om commentaar toe te voegen.\n",
    "\n",
    "```{exercise}\n",
    "Lees de code in beide cellen. Welke code is makkelijker te volgen?\n",
    "```"
   ]
  },
  {
   "cell_type": "code",
   "execution_count": 5,
   "metadata": {},
   "outputs": [
    {
     "name": "stdout",
     "output_type": "stream",
     "text": [
      "Voer een waarde invoor de variabele a: 4\n",
      "7\n"
     ]
    }
   ],
   "source": [
    "c = input('Voer een waarde invoor de variabele a: ')\n",
    "a = int(c)\n",
    "b = 3\n",
    "\n",
    "def s(a,b):\n",
    "    s = a+b\n",
    "    return print(s)\n",
    "\n",
    "s(a,b)"
   ]
  },
  {
   "cell_type": "code",
   "execution_count": 4,
   "metadata": {},
   "outputs": [
    {
     "name": "stdout",
     "output_type": "stream",
     "text": [
      "8\n"
     ]
    }
   ],
   "source": [
    "# code om de som van twee getallen te berekenen\n",
    "getal_1 = 5\n",
    "getal_2 = 3\n",
    "\n",
    "# functie om de som van twee getallen te berekenen\n",
    "def som(getal1,getal2):\n",
    "    return getal1 + getal2\n",
    "\n",
    "print(som(getal_1,getal_2))"
   ]
  },
  {
   "cell_type": "code",
   "execution_count": null,
   "metadata": {},
   "outputs": [],
   "source": []
  }
 ],
 "metadata": {
  "kernelspec": {
   "display_name": "Python 3",
   "language": "python",
   "name": "python3"
  },
  "language_info": {
   "codemirror_mode": {
    "name": "ipython",
    "version": 3
   },
   "file_extension": ".py",
   "mimetype": "text/x-python",
   "name": "python",
   "nbconvert_exporter": "python",
   "pygments_lexer": "ipython3",
   "version": "3.7.6"
  }
 },
 "nbformat": 4,
 "nbformat_minor": 2
}
