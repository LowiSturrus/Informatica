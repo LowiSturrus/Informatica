{
 "cells": [
  {
   "cell_type": "markdown",
   "metadata": {},
   "source": [
    "# Python: Functies\n",
    "\n",
    "Nu je iets weet van data-types, numpy en plotten, is het tijd voor de volgende stap... programmeren in Python.\n",
    "\n",
    "## Leerdoelen\n",
    "- functies\n",
    "- conditionals\n",
    "- loops\n"
   ]
  },
  {
   "cell_type": "markdown",
   "metadata": {},
   "source": [
    "## Functies\n",
    "\n",
    "In programmeren wil je vaak gebruik maken van het zelfde stukje code, maar dan misschien met anderen waarden. Het is dan niet handig om steeds dezelfde code te moeten typen... je kunt gebruik maken van functies.\n",
    "\n",
    "<div style=\"width:75%; margin:0 auto;\">\n",
    "    <iframe width=\"600\" height=\"450\" src=\"https://www.youtube.com/embed/9Os0o3wzS_I\" title=\"Python Tutorial for Beginners 8: Functions\" frameborder=\"0\" allow=\"accelerometer; autoplay; clipboard-write; encrypted-media; gyroscope; picture-in-picture; web-share\" referrerpolicy=\"strict-origin-when-cross-origin\" allowfullscreen></iframe>\n",
    "</div>\n",
    "\n",
    "```{exercise}\n",
    "Bekijk de onderstaande code. Hoe is hier handig gebruik gemaakt van een functie?\n",
    "```"
   ]
  },
  {
   "cell_type": "code",
   "execution_count": 1,
   "metadata": {},
   "outputs": [
    {
     "data": {
      "image/png": "[encoded data removed]",
      "text/plain": [
       "<Figure size 640x480 with 1 Axes>"
      ]
     },
     "metadata": {},
     "output_type": "display_data"
    }
   ],
   "source": [
    "import numpy as np\n",
    "import matplotlib.pyplot as plt\n",
    "\n",
    "def functie(x,a,b):\n",
    "    return a*x+b\n",
    "\n",
    "x = np.linspace(0,10,100)\n",
    "\n",
    "plt.figure()\n",
    "plt.xlabel('$x$')\n",
    "plt.ylabel('$f(x)$')\n",
    "\n",
    "plt.plot(x,functie(x,2,3),label='$f(x)=2x+3$')\n",
    "plt.plot(x,functie(x,3,2),label='$f(x)=3x+2$')\n",
    "\n",
    "plt.legend()\n",
    "plt.show()"
   ]
  },
  {
   "cell_type": "markdown",
   "metadata": {},
   "source": [
    "Bovenstaande code maakt gebruik van een functie met drie input variabelen (x, a en b). \n",
    "```{code}\n",
    "def functie(x,a,b):\n",
    "    return a*x+b\n",
    "```\n",
    "Die drie variabelen bestaan alleen in de functie. Het zijn zogenaamde ['local variables'](https://www.geeksforgeeks.org/global-local-variables-python/). Bekijk onderstaande code maar eens:\n"
   ]
  },
  {
   "cell_type": "code",
   "execution_count": 2,
   "metadata": {},
   "outputs": [
    {
     "ename": "NameError",
     "evalue": "name 's' is not defined",
     "output_type": "error",
     "traceback": [
      "\u001b[0;31m---------------------------------------------------------------------------\u001b[0m",
      "\u001b[0;31mNameError\u001b[0m                                 Traceback (most recent call last)",
      "Cell \u001b[0;32mIn[2], line 5\u001b[0m\n\u001b[1;32m      2\u001b[0m     s \u001b[38;5;241m=\u001b[39m \u001b[38;5;124m'\u001b[39m\u001b[38;5;124mIk ben een lokale variabele\u001b[39m\u001b[38;5;124m'\u001b[39m\n\u001b[1;32m      3\u001b[0m     \u001b[38;5;28mprint\u001b[39m(s)\n\u001b[0;32m----> 5\u001b[0m \u001b[38;5;28mprint\u001b[39m(\u001b[43ms\u001b[49m)\n",
      "\u001b[0;31mNameError\u001b[0m: name 's' is not defined"
     ]
    }
   ],
   "source": [
    "def f():\n",
    "    s = 'Ik ben een lokale variabele'\n",
    "    print(s)\n",
    "\n",
    "print(s)"
   ]
  },
  {
   "cell_type": "markdown",
   "metadata": {},
   "source": [
    "Bij het uitvoeren van bovenstaande cell wordt er een error terug gegeven, $s$ bestaat namelijk alleen binnen de functie $f()$.\n",
    "\n",
    "```{exercise}\n",
    "Maak een functie genaamd som, die de som van twee waarden terug geeft.\n",
    "```"
   ]
  },
  {
   "cell_type": "code",
   "execution_count": null,
   "metadata": {},
   "outputs": [],
   "source": [
    "# Jouw code"
   ]
  },
  {
   "cell_type": "markdown",
   "metadata": {},
   "source": [
    "```{exercise}\n",
    "\n",
    "Maak een array: \n",
    "\n",
    "**arr = np.array([10, 20, 30, 40, 50]).**\n",
    "\n",
    "Schrijf een functie genaamd edit_array met de volgende parameters:\n",
    "- array (de originele array)\n",
    "- indices_to_remove (een lijst met indexen van elementen die verwijderd moeten worden)\n",
    "- elements_to_add (een lijst met elementen die aan het einde van de array moeten worden toegevoegd)\n",
    "\n",
    "Laat de functie:\n",
    "- De opgegeven elementen verwijderen met np.delete.\n",
    "- De opgegeven elementen toevoegen met np.append.\n",
    "- De bewerkte array teruggeven.\n",
    "\n",
    "Roep de functie aan met:\n",
    "- indices_to_remove = [1, 3] (verwijder elementen op index 1 en 3: 20 en 40).\n",
    "- elements_to_add = [60, 70] (voeg 60 en 70 toe).\n",
    "\n",
    "Print de resulterende array.\n",
    "```"
   ]
  },
  {
   "cell_type": "code",
   "execution_count": null,
   "metadata": {},
   "outputs": [],
   "source": [
    "# jouw code"
   ]
  },
  {
   "cell_type": "markdown",
   "metadata": {},
   "source": [
    "## Conditionals\n",
    "\n",
    "Conditionals (voorwaardelijke statements) in Python worden gebruikt om beslissingen te nemen in je code. Met conditionals kun je een specifieke actie uitvoeren als een bepaalde voorwaarde waar is. Dit wordt vaak gedaan met de `if-**statement**` en bijbehorende varianten zoals `elif` en `else`.\n",
    "\n",
    "Het basisidee van een if-statement is simpel:\n",
    "- Controleer of een voorwaarde waar is (bijvoorbeeld: \"Is het getal groter dan 10?\").\n",
    "- Als dat zo is, voer dan een specifieke code uit.\n",
    "\n",
    "```{code} python\n",
    "x = 15\n",
    "\n",
    "if x > 10:\n",
    "    print(\"x is groter dan 10\")\n",
    "```\n",
    "\n",
    "* Python controleert de voorwaarde x > 10.\n",
    "* Omdat dit waar is (15 is groter dan 10), wordt de regel binnen de if uitgevoerd, en zie je de tekst: x is groter dan 10."
   ]
  },
  {
   "cell_type": "code",
   "execution_count": null,
   "metadata": {},
   "outputs": [],
   "source": [
    "x = 15\n",
    "\n",
    "if x > 10:\n",
    "    print(\"x is groter dan 10\")\n"
   ]
  },
  {
   "cell_type": "markdown",
   "metadata": {},
   "source": [
    "Soms wil je meerdere voorwaarden controleren. Daarvoor kun je `elif` en `else` gebruiken:\n",
    "- `elif`: Dit staat voor \"else if\" en wordt gebruikt om extra voorwaarden toe te voegen.\n",
    "- `else`: Dit wordt uitgevoerd als geen van de bovenstaande voorwaarden waar is.\n",
    "\n",
    "```{note}\n",
    "Let op inspringingen (indentation): In Python bepaalt de inspringing welke code bij een bepaalde conditie hoort. Gebruik 4 spaties of een tab.\n",
    "```"
   ]
  },
  {
   "cell_type": "code",
   "execution_count": null,
   "metadata": {},
   "outputs": [],
   "source": [
    "x = 15\n",
    "\n",
    "if x > 20:\n",
    "    print(\"x is groter dan 20\")\n",
    "elif x > 10:\n",
    "    print(\"x is tussen 11 en 20\")\n",
    "else:\n",
    "    print(\"x is 10 of kleiner\")\n"
   ]
  },
  {
   "cell_type": "markdown",
   "metadata": {},
   "source": [
    "Je kunt ook meerdere voorwaarden combineren met and, or en not:\n",
    "- `and`: Beide voorwaarden moeten waar zijn.\n",
    "- `or`: Eén van de voorwaarden moet waar zijn.\n",
    "- `not`: Keert de voorwaarde om. "
   ]
  },
  {
   "cell_type": "code",
   "execution_count": null,
   "metadata": {},
   "outputs": [],
   "source": [
    "x = 15\n",
    "y = 5\n",
    "\n",
    "if x > 10 and y > 10:\n",
    "    print(\"x en y zijn beide groter dan 10\")\n",
    "elif x > 10 or y > 10:\n",
    "    print(\"x of y is groter dan 10\")\n",
    "else:\n",
    "    print(\"Geen van beide is groter dan 10\")\n"
   ]
  },
  {
   "cell_type": "markdown",
   "metadata": {},
   "source": [
    "```{exercise}\n",
    "In een bar wordt limonade, bier en wodka verkocht. Limonade mag gekocht worden door iedereen. Bier voor mensen boven de 18 en wodka alleen boven de 21. \n",
    "\n",
    "Schrijf de code die terug geeft of het product verkocht mag worden. Maak gebruik van een functie, met de inputvariabele `drankje` en `leeftijd`.\n",
    "```"
   ]
  },
  {
   "cell_type": "code",
   "execution_count": null,
   "metadata": {},
   "outputs": [],
   "source": [
    "# jouw code\n"
   ]
  },
  {
   "cell_type": "markdown",
   "metadata": {},
   "source": [
    "## Loops\n",
    "\n",
    "Loops zijn een constructie in een programmeertaal waarmee je hetzelfde stukje code herhaaldelijk kunt uitvoeren.\n",
    "\n",
    "In Python zijn er twee soorten loops: `while`-loops en `for`-loops. We zullen eerst `while`-loops bekijken en daarna verdergaan met de meer gebruikelijke `for`-loops.\n",
    "\n",
    "### While-loop\n",
    "Met de while-opdracht kun je een opgeven codeblok steeds opnieuw laten uitvoeren totdat aan een bepaalde voorwaarde is voldaan:\n",
    "\n",
    "```{code} python\n",
    "while expressie:\n",
    "    code...\n",
    "```\n",
    "\n",
    "Zolang de expressie waar is, wordt het codeblok steeds opnieuw uitgevoerd. Een eenvoudig voorbeeld waarbij we een while-loop gebruiken om tot 10 te tellen:\n"
   ]
  },
  {
   "cell_type": "code",
   "execution_count": null,
   "metadata": {},
   "outputs": [],
   "source": [
    "i = 1\n",
    "while i <= 10:\n",
    "    print(i)\n",
    "    i = i+1"
   ]
  },
  {
   "cell_type": "markdown",
   "metadata": {},
   "source": [
    "In dit voorbeeld gebruiken we een while-loop om alle getallen tussen 1 en 10 op te tellen:"
   ]
  },
  {
   "cell_type": "code",
   "execution_count": null,
   "metadata": {},
   "outputs": [],
   "source": [
    "i = 1\n",
    "som = 0\n",
    "\n",
    "while i<= 10:\n",
    "    som = som + i\n",
    "    i = i+1\n",
    "\n",
    "print(\"De totale som is\", som)"
   ]
  },
  {
   "cell_type": "markdown",
   "metadata": {},
   "source": [
    "```{warning}\n",
    "Let op dat je bij while-loops voorzichtig moet zijn om ervoor te zorgen dat het codeblok iets doet waardoor de expressie op een gegeven moment onwaar wordt, anders blijft de loop eindeloos doorlopen!\n",
    "```\n",
    "\n",
    "```{exercise}\n",
    "Schrijf de code die er voor zorgt dat de som van alle even getallen tussen 0 en 100 (excl) wordt berekend.\n",
    "```"
   ]
  },
  {
   "cell_type": "code",
   "execution_count": null,
   "metadata": {},
   "outputs": [],
   "source": [
    "# jouw code\n"
   ]
  },
  {
   "cell_type": "markdown",
   "metadata": {},
   "source": [
    "Voor de bovenstaande voorbeelden zou je doorgaans een for-loop gebruiken, wat we in de volgende sectie zullen zien. Een plek waar while-loops erg handig zijn, is als je niet van tevoren weet hoeveel iteraties van de loop je nodig hebt.\n",
    "\n",
    "Laten we bijvoorbeeld de volgende som bekijken:\n",
    "\n",
    "$$ S(n) = \\sum_{i=1}^n sin^2(i) $$\n",
    "\n",
    "Stel dat we willen weten: *voor welke is de som groter dan 30?* We kunnen dit eenvoudig controleren met een while-loop:\n"
   ]
  },
  {
   "cell_type": "code",
   "execution_count": null,
   "metadata": {},
   "outputs": [],
   "source": [
    "from numpy import sin\n",
    "\n",
    "i = 1\n",
    "s = 0\n",
    "\n",
    "while s<30:\n",
    "    s += sin(i)**2\n",
    "    i += 1\n",
    "\n",
    "print(\"Sum is\", s)\n",
    "print(\"i is\", i)"
   ]
  },
  {
   "cell_type": "markdown",
   "metadata": {},
   "source": [
    "Let op, we hebben hier ook een nieuwe operator += gebruikt: dit is een speciale toewijzingsoperator die de variabele met het opgegeven bedrag verhoogt. a += 1 is equivalent aan a = a + 1 (het scheelt alleen wat typewerk, bedenk wel: programmeurs zijn lui…)."
   ]
  },
  {
   "cell_type": "markdown",
   "metadata": {},
   "source": [
    "Schrijf een functie om de faculteit van een getal te berekenen met behulp van een while-loops. De faculteit, aangegeven met !, is het product van alle getallen tot dat getal, d.w.z. $4!=4\\cdot3\\cdot2\\cdot1$. Merk op dat 0!=1.\n"
   ]
  },
  {
   "cell_type": "code",
   "execution_count": null,
   "metadata": {},
   "outputs": [],
   "source": [
    "# jouw code"
   ]
  },
  {
   "cell_type": "markdown",
   "metadata": {},
   "source": [
    "Python biedt extra opdrachten voor het regelen van de uitvoeringsstroom in een loop: `break` en `continue`.\n",
    "\n",
    "`break` is een commando dat je kunt gebruiken om het verlaten van een loop te forceren. Je kunt bijvoorbeeld de while-loop hierboven vervangen met zoiets als dit:\n"
   ]
  },
  {
   "cell_type": "code",
   "execution_count": null,
   "metadata": {},
   "outputs": [],
   "source": [
    "s = 0\n",
    "i = 0\n",
    "while True:\n",
    "    s += sin(i)**2\n",
    "    i += 1\n",
    "    if s > 30: \n",
    "        break\n",
    "        \n",
    "print(s)"
   ]
  },
  {
   "cell_type": "markdown",
   "metadata": {},
   "source": [
    "De instructie `continue` wordt gebruikt als je de rest van de code in het codeblok wilt overslaan en de volgende loop opnieuw wilt starten. Dit kan soms handig zijn als je geen else-instructie wilt toe te voegen. (Onthoud dat programmeurs luie typisten zijn... en het kan handig zijn als je een groot, lang en ingewikkeld codeblok hebt...)\n"
   ]
  },
  {
   "cell_type": "code",
   "execution_count": null,
   "metadata": {},
   "outputs": [],
   "source": [
    "s = 0\n",
    "for i in randint(0,30,100):\n",
    "    if (i % 5) == 0:\n",
    "        continue\n",
    "    s += i\n",
    "\n",
    "print(\"The sum of +/-100 random numbers between 0 and 30 excluding those that are divisible by 5 is:\", s)\n",
    "    "
   ]
  },
  {
   "cell_type": "markdown",
   "metadata": {},
   "source": [
    "### For-loop\n",
    "De `for`-loop is ontworpen om een ​​stuk code een vast aantal keren uit te voeren. De syntaxis van de `for`-loop is:\n",
    "\n",
    "```{code} python\n",
    "for i in (a, b, c, d, ...):\n",
    "    code block\n",
    "```\n",
    "\n",
    "In elke volgende iteratie van de for-loop wordt de variabele `i` de volgende waarde toegewezen die in de lijstwaarden wordt geleverd.\n",
    "\n",
    "We kunnen onze bovenstaande somberekening herhalen met behulp van de volgende for-loop:"
   ]
  },
  {
   "cell_type": "code",
   "execution_count": null,
   "metadata": {},
   "outputs": [],
   "source": [
    "s = 0\n",
    "\n",
    "for i in (1, 2, 3, 4, 5, 6, 7, 8, 9, 10):\n",
    "    s += i\n",
    "    print(s)"
   ]
  },
  {
   "cell_type": "markdown",
   "metadata": {},
   "source": [
    "Het zou alleen veel leesbaarder zijn als we het zo zouden schrijven:"
   ]
  },
  {
   "cell_type": "code",
   "execution_count": null,
   "metadata": {},
   "outputs": [],
   "source": [
    "s = 0\n",
    "i = np.arange(1,11)\n",
    "for i in i:\n",
    "    s+=i\n",
    "    print(s)"
   ]
  },
  {
   "cell_type": "markdown",
   "metadata": {},
   "source": [
    "Of zelfs nog beter:"
   ]
  },
  {
   "cell_type": "code",
   "execution_count": null,
   "metadata": {},
   "outputs": [],
   "source": [
    "s = 0 \n",
    "for i in range(1,11):\n",
    "    s+=i\n",
    "    print(s)"
   ]
  },
  {
   "cell_type": "markdown",
   "metadata": {},
   "source": [
    "```{exercise}\n",
    "Schrijf code die een variabele `i` met een beginwaarde van nul creëert. Gebruik een while-loops die `i` met één verhoogt zolang `i` kleiner is dan een miljoen. Laat je loop stoppen als `i` voldoet aan de voorwaarde. Laat je code de `i` afdrukken die voldoet aan deze voorwaarde (als er een is).\n",
    "```"
   ]
  },
  {
   "cell_type": "code",
   "execution_count": 4,
   "metadata": {},
   "outputs": [],
   "source": [
    "# jouw code"
   ]
  },
  {
   "cell_type": "markdown",
   "metadata": {},
   "source": [
    "```{exercise}\n",
    "In deze opdracht maak je zelf je dataset en ga je die vervolgens curve fit.\n",
    "\n",
    "Voer de volgende opdrachten uit:\n",
    "* Maak een numpy array $x$ van 0 tot en met 50 in stapjes van 1.\n",
    "* Maak een numpy array $y$ van 50 tot en met 0 in stapjes van 1.\n",
    "* Maak een numpy array $R$ bestaande uit 50 elementen die random de waarde -1, 0, of 1 hebben (bijv [0 0 1 1 -1 0 0 1 1]). \n",
    "* Voeg de waarden van $R$ toe aan $y$ zodanig dat $y = y + R$.\n",
    "* Plot $y$ als functie van $x$. \n",
    "```"
   ]
  },
  {
   "cell_type": "code",
   "execution_count": null,
   "metadata": {},
   "outputs": [],
   "source": []
  }
 ],
 "metadata": {
  "kernelspec": {
   "display_name": "Python 3",
   "language": "python",
   "name": "python3"
  },
  "language_info": {
   "codemirror_mode": {
    "name": "ipython",
    "version": 3
   },
   "file_extension": ".py",
   "mimetype": "text/x-python",
   "name": "python",
   "nbconvert_exporter": "python",
   "pygments_lexer": "ipython3",
   "version": "3.12.8"
  }
 },
 "nbformat": 4,
 "nbformat_minor": 2
}
