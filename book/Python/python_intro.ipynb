{
 "cells": [
  {
   "cell_type": "markdown",
   "metadata": {},
   "source": [
    "# Python introductie\n",
    "\n",
    "Python is een populaire programmeertaal, die in de jaren '90 van de forige eeuw is ontwikkeld. Het is een relatief eenvoudig te leren taal, die voor allerlei toepassingen kan worden gebruikt, zoals:\n",
    "\n",
    "* het maken van websites\n",
    "* het maken van Jupyter Books\n",
    "* data-analyses\n",
    "* wiskundige berekeningen \n",
    "\n",
    "Met behulp van de instructies in deze Jypiter Book komen de basisstappen voor het programmeren in Python aan de orde. Het begint met de basisvaardigheden. Daarna wordt dieper ingegaan op het gebruik van functies en wordt het gebruik van subpolts uitglegd. Tenslotte wordt wordt behandeld hoe bijvoorbeeld meetgegevens handmatig kunnen worden ingevoerd.\n",
    "\n",
    "Dit inhoud van dit Jupyter Book is voor een groot deel ontleend aan het basiscursusmateriaal Python, gemaakt door de TU Delft/Beta-steunpunt.\n",
    "\n",
    "\n",
    "``` {figure} /figures/TUDelft_Logo.png\n",
    "---\n",
    "width: 15%\n",
    "height: 10%\n",
    "name: TUDelft_Logo\n",
    "---\n",
    "\n",
    "```\n",
    "\n",
    "Om aan de slag te gaan met Python programmeren, hoef je nu nog niets te installeren. We kunnen - voor eenvoudige Python scripts - aan de slag met programmeren in de browser. \n",
    "\n",
    "```{exercise}\n",
    "Probeer het maar eens: druk de {fa}`rocket` rechtsboven in je scherm en wacht tot alles geladen is. Druk vervolgens op run voor de onderstaande cell en kijk wat er gebeurt. \n",
    "\n",
    "Probeer eens de code aan te passen, voorspel wat er zal gebeuren.\n",
    "```"
   ]
  },
  {
   "cell_type": "code",
   "execution_count": null,
   "metadata": {},
   "outputs": [],
   "source": [
    "a = 2 \n",
    "b = 3\n",
    "print(a + b)"
   ]
  },
  {
   "cell_type": "markdown",
   "metadata": {},
   "source": [
    "## De Basis van Jupyter Notebooks\n",
    "Deze pagina, en de volgende zijn gemaakt met **Jupyter Notebooks**. In Jupyter Notebooks maken we gebruik van cellen. Elke cel kan tekst, code of andere inhoud bevatten. Er zijn twee belangrijke soorten cellen:\n",
    "- Code-cellen: Hierin schrijf je Python-code die je direct kunt uitvoeren.\n",
    "- Markdown-cellen: Hierin schrijf je tekst of opmaak met Markdown.\n",
    "\n",
    "## Jupyter Notebooks openen\n",
    "Omdat we hier gebruik maken van Jupyter Book met additionele tools (Sphinx), is het niet nodig om software te hebben om de Jupyter notebooks te openen. Ze zijn al omgezet naar leesbare html files. Echter, om zelf met Jupyter Notebooks te werken, heb je een platform of software nodig die deze bestanden kan openen en uitvoeren. Er zijn verschillende manieren om dit te doen:\n",
    "\n",
    "- Jupyter Notebook via [Anaconda](../Software/Anaconda.md)\n",
    "- [Visual Studio Code](../Software/VSC.md)\n",
    "- [Google Colab](https://colab.research.google.com/)\n",
    "- JupyterLab\n",
    "\n",
    "In onderstaande hoofdstuk staan de verschillende platforms toegelicht. Let op! Je kunt de files die hier staan downloaden als .ipynb of als .md files, maar omdat we ook gebruik maken van Sphinx extensies is niet alles leesbaar. "
   ]
  }
 ],
 "metadata": {
  "language_info": {
   "name": "python"
  }
 },
 "nbformat": 4,
 "nbformat_minor": 2
}
