{
 "cells": [
  {
   "cell_type": "markdown",
   "metadata": {},
   "source": [
    "# Python introductie\n",
    "\n",
    "Python is een populaire, gebruiksvriendelijke programmeertaal die bekend staat om zijn eenvoud, leesbaarheid en flexibiliteit. Deze interpreted programmeer taal wordt steeds meer ingevoerd op universiteiten en vervangt bijvoorbeeld Maple, MatLab en LabView. Python biedt een uitgebreide standaardbibliotheek en door een grote, actieve gemeenschap worden nieuwe bibliotheken aan gemaakt en bestaande uitgebreid.\n",
    "\n",
    "\n",
    "Python is een relatief eenvoudig te leren taal, die voor allerlei toepassingen kan worden gebruikt, zoals:\n",
    "\n",
    "* het maken van websites\n",
    "* het maken van Jupyter Books\n",
    "* data-analyses\n",
    "* wiskundige berekeningen \n",
    "\n",
    "In dit cursusmateriaal maken we gebruik van Jupyter Notebooks. Jupyter Notebooks zijn een krachtige tool voor het schrijven en uitvoeren van Python-code in een interactieve omgeving. Het unieke van Jupyter Notebooks is dat je niet alleen code kunt schrijven, maar ook tekst, formules, afbeeldingen, en diagrammen kunt toevoegen om je werk overzichtelijk en goed gedocumenteerd te maken. Dit is handig voor data-analyse, machine learning, en het maken van rapporten. Jupyter Notebooks herken je aan de extensie .ipynb Omdat we gebruik maken van Jupyter Book, met additionele tools (Sphinx), is het niet nodig om software te hebben om de Jupyter notebooks te openen. Ze zijn al omgezet naar leesbare html files. \n",
    "\n",
    "We kunnen - voor eenvoudige Python scripts - aan de slag met programmeren in de browser. \n",
    "\n",
    "```{exercise}\n",
    "Probeer het maar eens: druk de {fa}`rocket` rechtsboven in je scherm en wacht tot alles geladen is. Druk vervolgens op run voor de onderstaande cell en kijk wat er gebeurt. \n",
    "\n",
    "Probeer eens de code aan te passen, voorspel wat er zal gebeuren.\n",
    "```\n",
    "\n",
    "Echter, om zelf met Jupyter Notebooks te werken, heb je een platform of software nodig die deze bestanden kan openen en uitvoeren.\n",
    "\n",
    "Met behulp van de instructies in deze Jypiter Book komen de basisstappen voor het programmeren in Python aan de orde. Het begint met de basisvaardigheden. Daarna wordt dieper ingegaan op het gebruik van functies en wordt het gebruik van subpolts uitglegd. Tenslotte wordt wordt behandeld hoe bijvoorbeeld meetgegevens handmatig kunnen worden ingevoerd.\n",
    "\n",
    "De inhoud van dit Jupyter Book is voor een groot deel ontleend aan het basiscursusmateriaal Python, gemaakt door de TU Delft/Beta-steunpunt.\n",
    "\n",
    "\n",
    "``` {figure} /figures/TUDelft_Logo.png\n",
    "---\n",
    "width: 15%\n",
    "height: 10%\n",
    "name: TUDelft_Logo\n",
    "---\n",
    "\n",
    "```\n",
    "\n",
    "Om aan de slag te gaan met Python programmeren, hoef je nu nog niets te installeren. "
   ]
  },
  {
   "cell_type": "code",
   "execution_count": null,
   "metadata": {},
   "outputs": [],
   "source": [
    "a = 2 \n",
    "b = 3\n",
    "print(a + b)"
   ]
  },
  {
   "cell_type": "markdown",
   "metadata": {},
   "source": [
    "## De Basis van Jupyter Notebooks\n",
    "Deze pagina, en de volgende zijn gemaakt met **Jupyter Notebooks**. In Jupyter Notebooks maken we gebruik van cellen. Elke cel kan tekst, code of andere inhoud bevatten. Er zijn twee belangrijke soorten cellen:\n",
    "- Code-cellen: Hierin schrijf je Python-code die je direct kunt uitvoeren.\n",
    "- Markdown-cellen: Hierin schrijf je tekst of opmaak met Markdown.\n",
    "\n",
    "## Jupyter Notebooks openen\n",
    "Omdat we hier gebruik maken van Jupyter Book met additionele tools (Sphinx), is het niet nodig om software te hebben om de Jupyter notebooks te openen. Ze zijn al omgezet naar leesbare html files. Echter, om zelf met Jupyter Notebooks te werken, heb je een platform of software nodig die deze bestanden kan openen en uitvoeren. Er zijn verschillende manieren om dit te doen:\n",
    "\n",
    "- Jupyter Notebook via [Anaconda](../Software/Anaconda.md)\n",
    "- [Visual Studio Code](../Software/VSC.md)\n",
    "- [Google Colab](https://colab.research.google.com/)\n",
    "- JupyterLab\n",
    "\n",
    "In onderstaande hoofdstuk staan de verschillende platforms toegelicht. Let op! Je kunt de files die hier staan downloaden als .ipynb of als .md files, maar omdat we ook gebruik maken van Sphinx extensies is niet alles leesbaar. "
   ]
  }
 ],
 "metadata": {
  "language_info": {
   "name": "python"
  }
 },
 "nbformat": 4,
 "nbformat_minor": 2
}
