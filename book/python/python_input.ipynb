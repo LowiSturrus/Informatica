{
 "cells": [
  {
   "cell_type": "markdown",
   "metadata": {},
   "source": [
    "# Python: Functies\n",
    "\n",
    "Nu je iets weet van data-types, numpy en plotten, is het tijd voor de volgende stap... programmeren in Python.\n",
    "\n",
    "## Leerdoelen\n",
    "- functies\n",
    "- conditionals\n",
    "- loops\n"
   ]
  },
  {
   "cell_type": "markdown",
   "metadata": {},
   "source": [
    "## Functies\n",
    "\n",
    "In programmeren wil je vaak gebruik maken van het zelfde stukje code, maar dan misschien met anderen waarden. Het is dan niet handig om steeds dezelfde code te moeten typen... je kunt gebruik maken van functies.\n",
    "\n",
    "<div style=\"width:75%; margin:0 auto;\">\n",
    "    <iframe width=\"600\" height=\"450\" src=\"https://www.youtube.com/embed/9Os0o3wzS_I\" title=\"Python Tutorial for Beginners 8: Functions\" frameborder=\"0\" allow=\"accelerometer; autoplay; clipboard-write; encrypted-media; gyroscope; picture-in-picture; web-share\" referrerpolicy=\"strict-origin-when-cross-origin\" allowfullscreen></iframe>\n",
    "</div>\n",
    "\n",
    "```{exercise}\n",
    "Bekijk de onderstaande code. Hoe is hier handig gebruik gemaakt van een functie?\n",
    "```"
   ]
  },
  {
   "cell_type": "code",
   "execution_count": null,
   "metadata": {},
   "outputs": [],
   "source": [
    "import numpy as np\n",
    "import matplotlib.pyplot as plt\n",
    "\n",
    "def functie(x,a,b):\n",
    "    return a*x+b\n",
    "\n",
    "x = np.linspace(0,10,100)\n",
    "\n",
    "plt.figure()\n",
    "plt.xlabel('$x$')\n",
    "plt.ylabel('$f(x)$')\n",
    "\n",
    "plt.plot(x,functie(x,2,3),label='$f(x)=2x+3$')\n",
    "plt.plot(x,functie(x,3,2),label='$f(x)=3x+2$')\n",
    "\n",
    "plt.legend()\n",
    "plt.show()"
   ]
  },
  {
   "cell_type": "markdown",
   "metadata": {},
   "source": [
    "Bovenstaande code maakt gebruik van een functie met drie input variabelen (x, a en b). \n",
    "```{code}\n",
    "def functie(x,a,b):\n",
    "    return a*x+b\n",
    "```\n",
    "Die drie variabelen bestaan alleen in de functie. Het zijn zogenaamde ['local variables'](https://www.geeksforgeeks.org/global-local-variables-python/). Bekijk onderstaande code maar eens:\n"
   ]
  },
  {
   "cell_type": "code",
   "execution_count": null,
   "metadata": {},
   "outputs": [],
   "source": [
    "def f():\n",
    "    s = 'Ik ben een lokale variabele'\n",
    "    print(s)\n",
    "\n",
    "print(s)"
   ]
  }
